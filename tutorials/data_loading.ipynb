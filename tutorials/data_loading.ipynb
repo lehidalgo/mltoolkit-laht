{
 "cells": [
  {
   "cell_type": "code",
   "execution_count": 2,
   "metadata": {},
   "outputs": [
    {
     "name": "stdout",
     "output_type": "stream",
     "text": [
      "2024-06-02 17:26:25 - ml_toolkit - INFO - __init__ - <module> - ml_toolkit package initialized.\n"
     ]
    }
   ],
   "source": [
    "#!pip install mltoolkit-laht\n",
    "from mltoolkit_laht.data_loading import CSVLoader, load_banking_reviews_data\n",
    "import numpy as np\n",
    "import pandas as pd"
   ]
  },
  {
   "cell_type": "code",
   "execution_count": null,
   "metadata": {},
   "outputs": [],
   "source": [
    "# Loading data from a file\n",
    "# data_loader = CSVLoader(file_path=\"BankReviews.csv\")\n",
    "\n",
    "# Loading data from library datasets\n",
    "data_loader = CSVLoader(data=load_banking_reviews_data())\n",
    "BankReviews = data_loader.load_data(encoding=\"latin1\")\n",
    "org_schema = data_loader.get_schema()  #  to get the schema of the data"
   ]
  },
  {
   "cell_type": "code",
   "execution_count": null,
   "metadata": {},
   "outputs": [],
   "source": [
    "# Show dataframe resume: duplicates, missing values, data types, etc.\n",
    "data_loader.show_info()"
   ]
  },
  {
   "cell_type": "markdown",
   "metadata": {},
   "source": [
    "### Update schema\n"
   ]
  },
  {
   "cell_type": "code",
   "execution_count": null,
   "metadata": {},
   "outputs": [],
   "source": [
    "BankReviews[\"Date\"] = pd.to_datetime(BankReviews[\"Date\"], format=\"%d-%m-%Y\")\n",
    "BankReviews[\"Year\"] = BankReviews[\"Date\"].dt.year\n",
    "BankReviews[\"text_length\"] = BankReviews.Reviews.apply(lambda x: len(x))\n",
    "\n",
    "random_vector = np.random.rand(len(BankReviews))\n",
    "BankReviews[\"new_column\"] = BankReviews[\"text_length\"] * random_vector\n",
    "\n",
    "new_schema = {\n",
    "    \"Date\": \"datetime64[ns]\",\n",
    "    \"Stars\": \"category\",\n",
    "    \"Reviews\": \"string\",\n",
    "    \"BankName\": \"category\",\n",
    "    \"Year\": \"category\",\n",
    "    \"text_length\": \"int64\",\n",
    "    \"new_column\": \"float64\",\n",
    "}\n",
    "\n",
    "BankReviews = data_loader.update_schema(new_schema=new_schema)\n",
    "data_loader.show_info(num_rows=100)"
   ]
  },
  {
   "cell_type": "markdown",
   "metadata": {},
   "source": [
    "### Features visualization\n"
   ]
  },
  {
   "cell_type": "code",
   "execution_count": null,
   "metadata": {},
   "outputs": [],
   "source": [
    "from mltoolkit_laht.data_visualization import FeaturesVisualizer\n",
    "\n",
    "features_visualizer = FeaturesVisualizer(\n",
    "    figsize=(12, 8), title=\"Distribution Plots\", x_label=\"Values\", y_label=\"Frequency\"\n",
    ")\n",
    "features_visualizer.plot_features(\n",
    "    data=BankReviews,  # Your DataFrame or Series\n",
    "    show_kde=True,  # Show KDE plot for numerical variables\n",
    "    combine_plots=True,  # Combine all plots of the same type into a single graph\n",
    "    standardize=False,  # Standardize numerical variables (only used when combine_plots is True)\n",
    "    rotate_xticks=90,  # Rotate x-ticks by 45 degrees for category plots\n",
    "    extend_numerical_plots=False,  # Extend numerical plots to show histogram, box plot, and violin plot horizontally\n",
    "    features_to_combine=[\n",
    "        \"text_length\",\n",
    "        \"new_column\",\n",
    "    ],  # List of features to combine in a single plot\n",
    ")"
   ]
  }
 ],
 "metadata": {
  "kernelspec": {
   "display_name": "Python 3 (ipykernel)",
   "language": "python",
   "name": "python3"
  }
 },
 "nbformat": 4,
 "nbformat_minor": 2
}
